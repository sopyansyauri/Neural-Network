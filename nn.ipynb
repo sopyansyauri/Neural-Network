{
 "cells": [
  {
   "attachments": {},
   "cell_type": "markdown",
   "metadata": {},
   "source": [
    "# Neural Network"
   ]
  },
  {
   "cell_type": "code",
   "execution_count": 4,
   "metadata": {},
   "outputs": [],
   "source": [
    "import numpy as np\n",
    "import math"
   ]
  },
  {
   "attachments": {},
   "cell_type": "markdown",
   "metadata": {},
   "source": [
    "## Sigmoid Function"
   ]
  },
  {
   "cell_type": "code",
   "execution_count": 5,
   "metadata": {},
   "outputs": [],
   "source": [
    "def sigmoid(x):\n",
    "    y = [1 / (1 + math.pow(math.e, -(i))) for i in x]\n",
    "    return y"
   ]
  },
  {
   "attachments": {},
   "cell_type": "markdown",
   "metadata": {},
   "source": [
    "## Neural Network 2 layers"
   ]
  },
  {
   "cell_type": "code",
   "execution_count": 6,
   "metadata": {},
   "outputs": [
    {
     "name": "stdout",
     "output_type": "stream",
     "text": [
      "INPUT DATA: \n",
      "[1.  0.5]\n",
      "\n",
      "\n",
      "OUTPUT DATA: \n",
      "[0.7407749  0.64565631]\n"
     ]
    }
   ],
   "source": [
    "inputData = np.array([1.0, 0.5])\n",
    "W11 = 0.9\n",
    "W12 = 0.2\n",
    "W21 = 0.3\n",
    "W22 = 0.8\n",
    "\n",
    "X1 = (inputData[0] * W11) + (inputData[1] * W21)\n",
    "X2 = (inputData[0] * W12) + (inputData[1] * W22)\n",
    "X1 = [X1]\n",
    "X2 = [X2]\n",
    "y1 = sigmoid(X1)\n",
    "y2 = sigmoid(X2)\n",
    "\n",
    "outputData = np.array([y1, y2]).reshape(2)\n",
    "\n",
    "# print(y1)\n",
    "# print(y2)\n",
    "# Input Data \n",
    "print(\"INPUT DATA: \")\n",
    "print(inputData)\n",
    "print(\"\\n\")\n",
    "print(\"OUTPUT DATA: \")\n",
    "print(outputData)"
   ]
  },
  {
   "attachments": {},
   "cell_type": "markdown",
   "metadata": {},
   "source": [
    "## Neural Network Multiple Layer"
   ]
  },
  {
   "cell_type": "code",
   "execution_count": 15,
   "metadata": {},
   "outputs": [
    {
     "name": "stdout",
     "output_type": "stream",
     "text": [
      "Input: \n",
      "[0.9 0.1 0.8]\n",
      "\n",
      "Hidden Layer 1: \n",
      "[1.16 0.42 0.62]\n",
      "\n",
      "Hidden layer2: \n",
      "[0.7613327148429104, 0.6034832498647263, 0.6502185485738271]\n",
      "\n",
      "Hidden layer3: \n",
      "[0.97594736 0.88858496 1.25461119]\n",
      "\n",
      "Output: \n",
      "[0.7263033450139793, 0.7085980724248232, 0.778097059561142]\n"
     ]
    }
   ],
   "source": [
    "data = np.array([0.9, 0.1, 0.8])\n",
    "W_input_hidden_layer = [0.9, 0.3, 0.4, 0.2, 0.8, 0.2, 0.1, 0.5, 0.6]\n",
    "W_input_hidden_layer = np.array(W_input_hidden_layer).reshape(3,3)\n",
    "\n",
    "W11 = 0.9\n",
    "W22 = 0.8\n",
    "W31 = 0.1\n",
    "W33 = 0.9\n",
    "\n",
    "W_hidden_output = np.array([0.3, 0.7, 0.5, 0.6, 0.5, 0.2, 0.8, 0.1, 0.9]).reshape(3,3)\n",
    "\n",
    "\n",
    "X_hidden = np.dot(W_input_hidden_layer, data)\n",
    "\n",
    "Output_hidden = sigmoid(X_hidden)\n",
    "\n",
    "X_output = np.dot(W_hidden_output, Output_hidden)\n",
    "\n",
    "O_output = sigmoid(X_output)\n",
    "\n",
    "print(\"Input: \")\n",
    "print(data)\n",
    "print()\n",
    "print(\"Hidden Layer 1: \")\n",
    "print(X_hidden)\n",
    "print()\n",
    "print(\"Hidden layer2: \")\n",
    "print(Output_hidden)\n",
    "print()\n",
    "print(\"Hidden layer3: \")\n",
    "print(X_output)\n",
    "print()\n",
    "print(\"Output: \")\n",
    "print(O_output)"
   ]
  }
 ],
 "metadata": {
  "kernelspec": {
   "display_name": "env",
   "language": "python",
   "name": "python3"
  },
  "language_info": {
   "codemirror_mode": {
    "name": "ipython",
    "version": 3
   },
   "file_extension": ".py",
   "mimetype": "text/x-python",
   "name": "python",
   "nbconvert_exporter": "python",
   "pygments_lexer": "ipython3",
   "version": "3.10.6"
  },
  "orig_nbformat": 4
 },
 "nbformat": 4,
 "nbformat_minor": 2
}
